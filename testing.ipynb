{
 "cells": [
  {
   "cell_type": "code",
   "execution_count": 6,
   "metadata": {},
   "outputs": [
    {
     "name": "stdout",
     "output_type": "stream",
     "text": [
      "   Rank                                         book_title  book_price  \\\n",
      "0     1                       Iron Flame (The Empyrean, 2)       18.42   \n",
      "1     2                                    The Woman in Me       20.93   \n",
      "2     3                                  My Name Is Barbra       31.50   \n",
      "3     4  Friends, Lovers, and the Big Terrible Thing: A...       23.99   \n",
      "4     5                              How to Catch a Turkey        5.65   \n",
      "\n",
      "   rating            author  year_of_publication               genre  \\\n",
      "0     4.1    Rebecca Yarros                 2023     Fantasy Romance   \n",
      "1     4.5    Britney Spears                 2023              Memoir   \n",
      "2     4.5  Barbra Streisand                 2023       Autobiography   \n",
      "3     4.4     Matthew Perry                 2023              Memoir   \n",
      "4     4.8      Adam Wallace                 2018  Childrens, Fiction   \n",
      "\n",
      "                                                 url  \n",
      "0  amazon.com/Iron-Flame-Empyrean-Rebecca-Yarros/...  \n",
      "1  amazon.com/Woman-Me-Britney-Spears/dp/16680090...  \n",
      "2  amazon.com/My-Name-Barbra-Streisand/dp/0525429...  \n",
      "3  amazon.com/Friends-Lovers-Big-Terrible-Thing/d...  \n",
      "4  amazon.com/How-Catch-Turkey-Adam-Wallace/dp/14...  \n",
      "<class 'pandas.core.frame.DataFrame'>\n",
      "RangeIndex: 100 entries, 0 to 99\n",
      "Data columns (total 8 columns):\n",
      " #   Column               Non-Null Count  Dtype  \n",
      "---  ------               --------------  -----  \n",
      " 0   Rank                 100 non-null    int64  \n",
      " 1   book_title           100 non-null    object \n",
      " 2   book_price           100 non-null    float64\n",
      " 3   rating               97 non-null     float64\n",
      " 4   author               100 non-null    object \n",
      " 5   year_of_publication  100 non-null    int64  \n",
      " 6   genre                100 non-null    object \n",
      " 7   url                  100 non-null    object \n",
      "dtypes: float64(2), int64(2), object(4)\n",
      "memory usage: 6.4+ KB\n",
      "None\n"
     ]
    }
   ],
   "source": [
    "import pandas as pd\n",
    "\n",
    "df = pd.read_csv('/workspaces/codespaces-blank/Top-100 Trending Books.csv')\n",
    "\n",
    "print(df.head())\n",
    "print(df.info())"
   ]
  },
  {
   "cell_type": "code",
   "execution_count": 7,
   "metadata": {},
   "outputs": [
    {
     "name": "stdout",
     "output_type": "stream",
     "text": [
      "<class 'pandas.core.frame.DataFrame'>\n",
      "Index: 97 entries, 0 to 99\n",
      "Data columns (total 8 columns):\n",
      " #   Column               Non-Null Count  Dtype  \n",
      "---  ------               --------------  -----  \n",
      " 0   Rank                 97 non-null     int64  \n",
      " 1   book_title           97 non-null     object \n",
      " 2   book_price           97 non-null     float64\n",
      " 3   rating               97 non-null     float64\n",
      " 4   author               97 non-null     object \n",
      " 5   year_of_publication  97 non-null     int64  \n",
      " 6   genre                97 non-null     object \n",
      " 7   url                  97 non-null     object \n",
      "dtypes: float64(2), int64(2), object(4)\n",
      "memory usage: 6.8+ KB\n",
      "None\n"
     ]
    }
   ],
   "source": [
    "df = df.dropna()\n",
    "print(df.info())"
   ]
  },
  {
   "cell_type": "code",
   "execution_count": 8,
   "metadata": {},
   "outputs": [],
   "source": [
    "from transformers import pipeline\n",
    "\n",
    "# Initialize the question-answering pipeline\n",
    "qa_pipeline = pipeline(\"question-answering\", model=\"distilbert-base-uncased-distilled-squad\")\n"
   ]
  },
  {
   "cell_type": "code",
   "execution_count": 9,
   "metadata": {},
   "outputs": [],
   "source": [
    "def get_book_recommendations(query, context):\n",
    "    # Use the question-answering pipeline to process the query\n",
    "    response = qa_pipeline(question=query, context=context)\n",
    "    return response\n"
   ]
  },
  {
   "cell_type": "code",
   "execution_count": 11,
   "metadata": {},
   "outputs": [],
   "source": [
    "# Generate a context string from your dataset\n",
    "def generate_context(df):\n",
    "    context = \"\"\n",
    "    for index, row in df.iterrows():\n",
    "        context += f\"Title: {row['book_title']}, Author: {row['author']}, Genre: {row['genre']}\\n\"\n",
    "    return context\n",
    "\n",
    "context = generate_context(df)\n"
   ]
  },
  {
   "cell_type": "code",
   "execution_count": 12,
   "metadata": {},
   "outputs": [],
   "source": [
    "from fastapi import FastAPI, Query\n",
    "\n",
    "app = FastAPI()\n",
    "\n",
    "@app.get(\"/ask_book_recommendation\")\n",
    "def ask_book_recommendation(query: str = Query(..., description=\"Ask about top books\")):\n",
    "    context = generate_context(df)\n",
    "    answer = get_book_recommendations(query, context)\n",
    "    return answer\n"
   ]
  },
  {
   "cell_type": "code",
   "execution_count": null,
   "metadata": {},
   "outputs": [],
   "source": []
  }
 ],
 "metadata": {
  "kernelspec": {
   "display_name": "Python 3",
   "language": "python",
   "name": "python3"
  },
  "language_info": {
   "codemirror_mode": {
    "name": "ipython",
    "version": 3
   },
   "file_extension": ".py",
   "mimetype": "text/x-python",
   "name": "python",
   "nbconvert_exporter": "python",
   "pygments_lexer": "ipython3",
   "version": "3.10.13"
  }
 },
 "nbformat": 4,
 "nbformat_minor": 2
}
