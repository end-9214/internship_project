{
 "cells": [
  {
   "cell_type": "code",
   "execution_count": 3,
   "metadata": {},
   "outputs": [
    {
     "name": "stdout",
     "output_type": "stream",
     "text": [
      "   Year  Rank                                         Book_Title  \\\n",
      "0  2010     1  The Girl Who Kicked the Hornet's Nest (Millenn...   \n",
      "1  2010     2  The Girl with the Dragon Tattoo (Millennium Se...   \n",
      "2  2010     3                                    Decision Points   \n",
      "3  2010     4                                           The Help   \n",
      "4  2010     5  The Girl Who Played with Fire (Millennium Series)   \n",
      "\n",
      "             Author  Rating  Num_Customers_Rated  Price  \n",
      "0     Stieg Larsson     4.7                 8475  17.24  \n",
      "1     Stieg Larsson     4.4                11516   9.99  \n",
      "2    George W. Bush     4.6                 2201  17.80  \n",
      "3  Kathryn Stockett     4.8                14772  14.97  \n",
      "4     Stieg Larsson     4.7                 7949   0.02  \n",
      "<class 'pandas.core.frame.DataFrame'>\n",
      "RangeIndex: 1094 entries, 0 to 1093\n",
      "Data columns (total 7 columns):\n",
      " #   Column               Non-Null Count  Dtype  \n",
      "---  ------               --------------  -----  \n",
      " 0   Year                 1094 non-null   int64  \n",
      " 1   Rank                 1094 non-null   int64  \n",
      " 2   Book_Title           1094 non-null   object \n",
      " 3   Author               1094 non-null   object \n",
      " 4   Rating               1094 non-null   float64\n",
      " 5   Num_Customers_Rated  1094 non-null   int64  \n",
      " 6   Price                1094 non-null   float64\n",
      "dtypes: float64(2), int64(3), object(2)\n",
      "memory usage: 60.0+ KB\n",
      "None\n"
     ]
    }
   ],
   "source": [
    "import pandas as pd\n",
    "\n",
    "df = pd.read_csv('/workspaces/codespaces-blank/amazon_bs_20102020.csv')\n",
    "\n",
    "print(df.head())\n",
    "print(df.info())"
   ]
  },
  {
   "cell_type": "code",
   "execution_count": 5,
   "metadata": {},
   "outputs": [
    {
     "name": "stdout",
     "output_type": "stream",
     "text": [
      "<class 'pandas.core.frame.DataFrame'>\n",
      "RangeIndex: 1094 entries, 0 to 1093\n",
      "Data columns (total 7 columns):\n",
      " #   Column               Non-Null Count  Dtype  \n",
      "---  ------               --------------  -----  \n",
      " 0   Year                 1094 non-null   int64  \n",
      " 1   Rank                 1094 non-null   int64  \n",
      " 2   Book_Title           1094 non-null   object \n",
      " 3   Author               1094 non-null   object \n",
      " 4   Rating               1094 non-null   float64\n",
      " 5   Num_Customers_Rated  1094 non-null   int64  \n",
      " 6   Price                1094 non-null   float64\n",
      "dtypes: float64(2), int64(3), object(2)\n",
      "memory usage: 60.0+ KB\n",
      "None\n"
     ]
    }
   ],
   "source": [
    "df = df.dropna()\n",
    "print(df.info())"
   ]
  },
  {
   "cell_type": "code",
   "execution_count": null,
   "metadata": {},
   "outputs": [],
   "source": []
  }
 ],
 "metadata": {
  "kernelspec": {
   "display_name": "Python 3",
   "language": "python",
   "name": "python3"
  },
  "language_info": {
   "codemirror_mode": {
    "name": "ipython",
    "version": 3
   },
   "file_extension": ".py",
   "mimetype": "text/x-python",
   "name": "python",
   "nbconvert_exporter": "python",
   "pygments_lexer": "ipython3",
   "version": "3.10.13"
  }
 },
 "nbformat": 4,
 "nbformat_minor": 2
}
